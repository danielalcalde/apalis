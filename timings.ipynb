{
 "cells": [
  {
   "cell_type": "markdown",
   "metadata": {},
   "source": [
    " <font size=\"6\"> <center> **[Open in Github](https://github.com/danielalcalde/apalis/blob/master/timings.ipynb)**</center></font> "
   ]
  },
  {
   "cell_type": "markdown",
   "metadata": {},
   "source": [
    "# Timings"
   ]
  },
  {
   "cell_type": "markdown",
   "metadata": {},
   "source": [
    "## Apalis vs Ray"
   ]
  },
  {
   "cell_type": "markdown",
   "metadata": {},
   "source": [
    "In this notebook, the overhead of both the libraries' Ray and Apalis is measured. For Apalis also its different syntaxes are compared in the next section. We conclude that for parallel workloads of more than **10ms** ray and Apalis perform similarly but under that Apalis outperforms ray."
   ]
  },
  {
   "cell_type": "code",
   "execution_count": 1,
   "metadata": {},
   "outputs": [],
   "source": [
    "import apalis\n",
    "import ray\n",
    "import timeit\n",
    "import numpy as np\n",
    "\n",
    "import matplotlib.pyplot as plt\n",
    "import matplotlib.ticker as mticker\n",
    "\n",
    "from collections import defaultdict"
   ]
  },
  {
   "cell_type": "code",
   "execution_count": 2,
   "metadata": {
    "scrolled": true
   },
   "outputs": [
    {
     "name": "stderr",
     "output_type": "stream",
     "text": [
      "2020-08-26 17:22:17,482\tINFO resource_spec.py:212 -- Starting Ray with 35.25 GiB memory available for workers and up to 17.63 GiB for objects. You can adjust these settings with ray.init(memory=<bytes>, object_store_memory=<bytes>).\n",
      "2020-08-26 17:22:17,708\tWARNING services.py:923 -- Redis failed to start, retrying now.\n",
      "2020-08-26 17:22:17,949\tINFO services.py:1165 -- View the Ray dashboard at \u001b[1m\u001b[32mlocalhost:8265\u001b[39m\u001b[22m\n"
     ]
    }
   ],
   "source": [
    "num_cpus = 16\n",
    "ray.init(num_cpus=num_cpus);"
   ]
  },
  {
   "cell_type": "code",
   "execution_count": 3,
   "metadata": {},
   "outputs": [],
   "source": [
    "class A:\n",
    "    def function(self, n):\n",
    "        cum = 0\n",
    "        for i in range(n):\n",
    "            cum += i\n",
    "        return cum\n",
    "\n",
    "Ar = ray.remote(A)"
   ]
  },
  {
   "cell_type": "code",
   "execution_count": 4,
   "metadata": {},
   "outputs": [],
   "source": [
    "obj_number = 16\n",
    "objs = [A() for _ in range(obj_number)]\n",
    "\n",
    "objs_apalis = [apalis.Handler(a) for a in objs]\n",
    "objs_apalis_G = apalis.GroupHandler(objs, threads=num_cpus)\n",
    "objs_ray = [Ar.remote() for _ in range(obj_number)]"
   ]
  },
  {
   "cell_type": "markdown",
   "metadata": {},
   "source": [
    "Ray:"
   ]
  },
  {
   "cell_type": "code",
   "execution_count": 5,
   "metadata": {},
   "outputs": [
    {
     "name": "stdout",
     "output_type": "stream",
     "text": [
      "[0, 0, 0, 0, 0, 0, 0, 0, 0, 0, 0, 0, 0, 0, 0, 0]\n",
      "CPU times: user 4 ms, sys: 8 ms, total: 12 ms\n",
      "Wall time: 16.6 ms\n"
     ]
    }
   ],
   "source": [
    "%%time\n",
    "tokens = [obj.function.remote(1) for obj in objs_ray]\n",
    "print(ray.get(tokens))"
   ]
  },
  {
   "cell_type": "markdown",
   "metadata": {},
   "source": [
    "Apalis:"
   ]
  },
  {
   "cell_type": "code",
   "execution_count": 6,
   "metadata": {},
   "outputs": [
    {
     "name": "stdout",
     "output_type": "stream",
     "text": [
      "[0, 0, 0, 0, 0, 0, 0, 0, 0, 0, 0, 0, 0, 0, 0, 0]\n",
      "CPU times: user 0 ns, sys: 0 ns, total: 0 ns\n",
      "Wall time: 4.23 ms\n"
     ]
    }
   ],
   "source": [
    "%%time\n",
    "tokens = [obj.function(1) for obj in objs_apalis]\n",
    "print(apalis.get(tokens))"
   ]
  },
  {
   "cell_type": "markdown",
   "metadata": {},
   "source": [
    "All the functions that will be tested:"
   ]
  },
  {
   "cell_type": "code",
   "execution_count": 7,
   "metadata": {},
   "outputs": [],
   "source": [
    "funcs = dict()\n",
    "\n",
    "funcs[\"single\"] = lambda x: [obj.function(x) for obj in objs]\n",
    "funcs[\"ray\"] = lambda x: ray.get([obj.function.remote(x) for obj in objs_ray])\n",
    "funcs[\"apalis\"] = lambda x: apalis.get([obj.function(x) for obj in objs_apalis])"
   ]
  },
  {
   "cell_type": "markdown",
   "metadata": {},
   "source": [
    "Testing:"
   ]
  },
  {
   "cell_type": "code",
   "execution_count": 8,
   "metadata": {},
   "outputs": [],
   "source": [
    "repeat = 50\n",
    "\n",
    "Ns = np.asarray(np.logspace(2, 7, 20), dtype=\"int\")\n",
    "\n",
    "ts = defaultdict(lambda: np.zeros((len(Ns), repeat)))\n",
    "\n",
    "for r in range(repeat):\n",
    "    for i, n in enumerate(Ns):\n",
    "        for j, (label, func) in enumerate(funcs.items()):\n",
    "            number = max(1, 2 * 10 ** 4 // n)\n",
    "\n",
    "            t = timeit.timeit(lambda : func(n), number=number)\n",
    "            ts[label][i][r] =  t / number\n",
    "\n",
    "ts_std = defaultdict(lambda: np.zeros(len(Ns)))\n",
    "for label in ts:\n",
    "    ts_std[label] = ts[label].std(axis=1) / np.sqrt(repeat)\n",
    "    ts[label] = ts[label].mean(axis=1)"
   ]
  },
  {
   "cell_type": "markdown",
   "metadata": {},
   "source": [
    "Apalis vs Ray timings:"
   ]
  },
  {
   "cell_type": "code",
   "execution_count": 9,
   "metadata": {},
   "outputs": [
    {
     "data": {
      "image/png": "[encoded data removed]",
      "text/plain": [
       "<Figure size 432x288 with 1 Axes>"
      ]
     },
     "metadata": {
      "needs_background": "light"
     },
     "output_type": "display_data"
    }
   ],
   "source": [
    "plt.ylabel(\"Time / [s]\")\n",
    "plt.xlabel(\"Operations\")\n",
    "\n",
    "for label in [\"single\", \"ray\", \"apalis\"]:\n",
    "    plt.errorbar(Ns, ts[label], yerr=ts_std[label], fmt=\"--o\", label=label)\n",
    "\n",
    "plt.xscale(\"log\")\n",
    "plt.yscale(\"log\")\n",
    "\n",
    "plt.xticks(fontsize=14)\n",
    "plt.legend()\n",
    "plt.show()"
   ]
  },
  {
   "cell_type": "markdown",
   "metadata": {},
   "source": [
    "The improvement over single-threaded vs the time it takes the function to execute in single-threaded:"
   ]
  },
  {
   "cell_type": "code",
   "execution_count": 12,
   "metadata": {},
   "outputs": [
    {
     "data": {
      "image/png": "[encoded data removed]",
      "text/plain": [
       "<Figure size 432x288 with 1 Axes>"
      ]
     },
     "metadata": {
      "needs_background": "light"
     },
     "output_type": "display_data"
    }
   ],
   "source": [
    "ax = plt.gca()\n",
    "\n",
    "plt.ylabel(r\"$\\frac{t_{multi}}{t_{single}}$\", size=25)\n",
    "plt.xlabel(\"$t_{single}$/[ms]\", size=20)\n",
    "plt.plot([],[])\n",
    "\n",
    "for label in [\"ray\", \"apalis\"]:\n",
    "    error = ts_std[\"single\"] / ts[label] + ts[\"single\"] * ts_std[label] / ts[label] ** 2\n",
    "    plt.errorbar(ts[\"single\"] * 1000 / num_cpus, ts[\"single\"] / ts[label], yerr=error, fmt=\"--o\", label=label)\n",
    "\n",
    "plt.xscale(\"log\")\n",
    "plt.yscale(\"log\")\n",
    "\n",
    "plt.axhline(1, color=\"gray\")\n",
    "plt.axhline(num_cpus, color=\"gray\")\n",
    "\n",
    "ax.yaxis.set_major_formatter(mticker.ScalarFormatter())\n",
    "ax.xaxis.set_major_formatter(mticker.ScalarFormatter())\n",
    "\n",
    "ax.set_xticks([0.01, 0.1, 1, 10, 100, 1000])\n",
    "ax.set_xticklabels([\"0.01\", \"0.1\", \"1\", \"10\", \"200\", \"1000\"])\n",
    "\n",
    "ax.set_yticks([0.1, 1, 16])\n",
    "ax.set_yticklabels([\"0.1\", \"1\", \"16\"])\n",
    "\n",
    "plt.legend()\n",
    "plt.show()"
   ]
  },
  {
   "cell_type": "markdown",
   "metadata": {},
   "source": [
    "Note that the longer the task takes the closer to 16 times improvement we come."
   ]
  },
  {
   "cell_type": "markdown",
   "metadata": {},
   "source": [
    "## Performance of the different apalis syntaxes"
   ]
  },
  {
   "cell_type": "markdown",
   "metadata": {},
   "source": [
    "The GroupHandler handles several objects at a time. It should be used instead of Handler if the amount of objects that need to be parallelized is larger than the number of cores. Here we compare for the case where we want to parallelize 32 objects on 16 cores."
   ]
  },
  {
   "cell_type": "code",
   "execution_count": 13,
   "metadata": {},
   "outputs": [],
   "source": [
    "obj_number = 32\n",
    "objs = [A() for _ in range(obj_number)]\n",
    "\n",
    "objs_apalis = [apalis.Handler(a) for a in objs]\n",
    "objs_apalis_G = apalis.GroupHandler(objs, threads=num_cpus)"
   ]
  },
  {
   "cell_type": "markdown",
   "metadata": {},
   "source": [
    "Handler:"
   ]
  },
  {
   "cell_type": "code",
   "execution_count": 14,
   "metadata": {},
   "outputs": [
    {
     "name": "stdout",
     "output_type": "stream",
     "text": [
      "[0, 0, 0, 0, 0, 0, 0, 0, 0, 0, 0, 0, 0, 0, 0, 0, 0, 0, 0, 0, 0, 0, 0, 0, 0, 0, 0, 0, 0, 0, 0, 0]\n",
      "CPU times: user 4 ms, sys: 0 ns, total: 4 ms\n",
      "Wall time: 8.91 ms\n"
     ]
    }
   ],
   "source": [
    "%%time\n",
    "tokens = [obj.function(1) for obj in objs_apalis]\n",
    "print(apalis.get(tokens))"
   ]
  },
  {
   "cell_type": "markdown",
   "metadata": {},
   "source": [
    "Group Handler:"
   ]
  },
  {
   "cell_type": "code",
   "execution_count": 15,
   "metadata": {},
   "outputs": [
    {
     "name": "stdout",
     "output_type": "stream",
     "text": [
      "[0, 0, 0, 0, 0, 0, 0, 0, 0, 0, 0, 0, 0, 0, 0, 0, 0, 0, 0, 0, 0, 0, 0, 0, 0, 0, 0, 0, 0, 0, 0, 0]\n",
      "CPU times: user 4 ms, sys: 0 ns, total: 4 ms\n",
      "Wall time: 5.48 ms\n"
     ]
    }
   ],
   "source": [
    "%%time\n",
    "tasks = [obj.function(1) for obj in objs_apalis_G]\n",
    "print(objs_apalis_G.multiple_run(tasks)())"
   ]
  },
  {
   "cell_type": "markdown",
   "metadata": {},
   "source": [
    "Faster but more cumbersome syntax:"
   ]
  },
  {
   "cell_type": "code",
   "execution_count": 16,
   "metadata": {},
   "outputs": [
    {
     "name": "stdout",
     "output_type": "stream",
     "text": [
      "[0, 0, 0, 0, 0, 0, 0, 0, 0, 0, 0, 0, 0, 0, 0, 0, 0, 0, 0, 0, 0, 0, 0, 0, 0, 0, 0, 0, 0, 0, 0, 0]\n",
      "CPU times: user 4 ms, sys: 0 ns, total: 4 ms\n",
      "Wall time: 2.2 ms\n"
     ]
    }
   ],
   "source": [
    "%%time\n",
    "tasks = [{\"i\": i, \"mode\": \"run\", \"name\": \"function\", \"args\": (1,)} for i in range(obj_number)]\n",
    "print(objs_apalis_G.multiple_run(tasks)())"
   ]
  },
  {
   "cell_type": "markdown",
   "metadata": {},
   "source": [
    "Runs the tasks and directly returns the outputs. Does not need to deal with the overhead of creating Tokens."
   ]
  },
  {
   "cell_type": "code",
   "execution_count": 17,
   "metadata": {},
   "outputs": [
    {
     "name": "stdout",
     "output_type": "stream",
     "text": [
      "[0, 0, 0, 0, 0, 0, 0, 0, 0, 0, 0, 0, 0, 0, 0, 0, 0, 0, 0, 0, 0, 0, 0, 0, 0, 0, 0, 0, 0, 0, 0, 0]\n",
      "CPU times: user 0 ns, sys: 0 ns, total: 0 ns\n",
      "Wall time: 1.84 ms\n"
     ]
    }
   ],
   "source": [
    "%%time\n",
    "tasks = [{\"i\": i, \"mode\": \"run\", \"name\": \"function\", \"args\": (1,)} for i in range(obj_number)]\n",
    "print(objs_apalis_G.run(tasks))"
   ]
  },
  {
   "cell_type": "markdown",
   "metadata": {},
   "source": [
    "Timing for different parallelization solutions:"
   ]
  },
  {
   "cell_type": "code",
   "execution_count": 18,
   "metadata": {},
   "outputs": [],
   "source": [
    "funcsA = dict()\n",
    "\n",
    "funcsA[\"single\"] = lambda x: [obj.function(x) for obj in objs]\n",
    "funcsA[\"handler\"] = lambda x: apalis.get([obj.function(x) for obj in objs_apalis])\n",
    "funcsA[\"group handler\"] = lambda x: objs_apalis_G.multiple_run([obj.function(x) for obj in objs_apalis_G])()\n",
    "funcsA[\"run\"] = lambda x: objs_apalis_G.run([{\"i\": i, \"mode\": \"run\", \"name\": \"function\", \"args\": (x,)} for i in range(obj_number)])\n",
    "funcsA[\"fast syntax\"] = lambda x: objs_apalis_G.multiple_run([{\"i\": i, \"mode\": \"run\", \"name\": \"function\", \"args\": (x,)} for i in range(obj_number)])()"
   ]
  },
  {
   "cell_type": "markdown",
   "metadata": {},
   "source": [
    "Testing:"
   ]
  },
  {
   "cell_type": "code",
   "execution_count": 21,
   "metadata": {},
   "outputs": [],
   "source": [
    "repeat = 50\n",
    "\n",
    "Ns = np.asarray(np.logspace(2, 7, 20), dtype=\"int\")\n",
    "\n",
    "tsA = defaultdict(lambda: np.zeros((len(Ns), repeat)))\n",
    "\n",
    "for r in range(repeat):\n",
    "    for i, n in enumerate(Ns):\n",
    "        for j, (label, func) in enumerate(funcsA.items()):\n",
    "            number = max(1, 2 * 10 ** 4 // n)\n",
    "\n",
    "            t = timeit.timeit(lambda : func(n), number=number)\n",
    "            tsA[label][i][r] =  t / number\n",
    "\n",
    "ts_stdA = defaultdict(lambda: np.zeros(len(Ns)))\n",
    "for label in tsA:\n",
    "    ts_stdA[label] = tsA[label].std(axis=1) / np.sqrt(repeat)\n",
    "    tsA[label] = tsA[label].mean(axis=1)"
   ]
  },
  {
   "cell_type": "markdown",
   "metadata": {},
   "source": [
    "Plotting:"
   ]
  },
  {
   "cell_type": "code",
   "execution_count": 22,
   "metadata": {},
   "outputs": [
    {
     "data": {
      "image/png": "[encoded data removed]",
      "text/plain": [
       "<Figure size 432x288 with 1 Axes>"
      ]
     },
     "metadata": {
      "needs_background": "light"
     },
     "output_type": "display_data"
    }
   ],
   "source": [
    "ax = plt.gca()\n",
    "\n",
    "plt.ylabel(r\"$\\frac{t_{multi}}{t_{single}}$\", size=25)\n",
    "plt.xlabel(\"$t_{single}$/[ms]\", size=20)\n",
    "\n",
    "for label in [\"handler\", \"group handler\"]:\n",
    "    error = ts_stdA[\"single\"] / tsA[label] + tsA[\"single\"] * ts_stdA[label] / tsA[label] ** 2\n",
    "    plt.errorbar(tsA[\"single\"] * 1000 / obj_number, tsA[\"single\"] / tsA[label], yerr=error, fmt=\"--o\", label=label)\n",
    "\n",
    "plt.xscale(\"log\")\n",
    "plt.yscale(\"log\")\n",
    "\n",
    "plt.axhline(1, color=\"gray\")\n",
    "plt.axhline(num_cpus, color=\"gray\") \n",
    "\n",
    "ax.yaxis.set_major_formatter(mticker.ScalarFormatter())\n",
    "ax.xaxis.set_major_formatter(mticker.ScalarFormatter())\n",
    "\n",
    "ax.set_xticks([0.01, 0.1, 1, 10, 100, 1000])\n",
    "ax.set_xticklabels([\"0.01\", \"0.1\", \"1\", \"10\", \"200\", \"1000\"])\n",
    "\n",
    "ax.set_yticks([0.1, 1, 16])\n",
    "ax.set_yticklabels([\"0.1\", \"1\", \"16\"])\n",
    "\n",
    "plt.legend()\n",
    "plt.show()"
   ]
  },
  {
   "cell_type": "markdown",
   "metadata": {},
   "source": [
    "Percentage improvement of run vs the other methods:"
   ]
  },
  {
   "cell_type": "code",
   "execution_count": 23,
   "metadata": {},
   "outputs": [
    {
     "data": {
      "image/png": "[encoded data removed]",
      "text/plain": [
       "<Figure size 432x288 with 1 Axes>"
      ]
     },
     "metadata": {
      "needs_background": "light"
     },
     "output_type": "display_data"
    }
   ],
   "source": [
    "plt.ylabel(r\"$\\frac{t_{run}}{t_{single}}$\", size=25)\n",
    "plt.xlabel(\"$t_{single}$/[ms]\", size=20)\n",
    "\n",
    "for label in [\"group handler\", \"fast syntax\"]:\n",
    "    error = ts_stdA[\"run\"] / tsA[label] + tsA[\"run\"] * ts_stdA[label]  / tsA[label] ** 2\n",
    "    plt.errorbar(tsA[\"single\"] * 1000 / obj_number, tsA[\"run\"] / tsA[label], yerr=error, fmt=\"--o\", label=label)\n",
    "\n",
    "plt.xscale(\"log\")\n",
    "    \n",
    "plt.axhline(1, color=\"gray\")\n",
    "plt.legend()\n",
    "plt.show()"
   ]
  }
 ],
 "metadata": {
  "kernelspec": {
   "display_name": "Python 3",
   "language": "python",
   "name": "python3"
  },
  "language_info": {
   "codemirror_mode": {
    "name": "ipython",
    "version": 3
   },
   "file_extension": ".py",
   "mimetype": "text/x-python",
   "name": "python",
   "nbconvert_exporter": "python",
   "pygments_lexer": "ipython3",
   "version": "3.6.10"
  },
  "toc": {
   "base_numbering": 1,
   "nav_menu": {},
   "number_sections": true,
   "sideBar": true,
   "skip_h1_title": false,
   "title_cell": "Table of Contents",
   "title_sidebar": "Contents",
   "toc_cell": false,
   "toc_position": {},
   "toc_section_display": true,
   "toc_window_display": false
  }
 },
 "nbformat": 4,
 "nbformat_minor": 2
}
